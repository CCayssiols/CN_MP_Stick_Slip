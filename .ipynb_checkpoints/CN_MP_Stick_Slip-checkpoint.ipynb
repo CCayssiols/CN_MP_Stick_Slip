{
 "cells": [
  {
   "cell_type": "markdown",
   "metadata": {},
   "source": [
    "<div style='background-image: url(\"main.png\") ; padding: 0px ; background-size: cover ; border-radius: 5px ; height: 200px ; width: 100%'>\n",
    "    <div style=\"float: right ; margin: 20px ; padding: 20px ; background: rgba(255 , 255 , 255 , 0.9) ; width: 50% ; height: 150px\">\n",
    "        <div style=\"position: relative ; top: 50% ; transform: translatey(-50%)\">\n",
    "            <div style=\"font-size: xx-large ; font-weight: 900 ; color: rgba(0 , 0 , 0 , .8) ; line-height: 100%\">Mécanique\n",
    "            </div>\n",
    "            <div style=\"font-size: large ; padding-top: 20px ; color: rgba(0 , 0 , 0 , 0.5)\">Lois du frottement solide | Glisser - coller\n",
    "             </div>\n",
    "        </div>\n",
    "    </div>\n",
    "</div>"
   ]
  },
  {
   "cell_type": "markdown",
   "metadata": {},
   "source": [
    "# Mise en œuvre du problème physique\n",
    "##  Équation de diffusion et marche au hasard\n",
    "La diffusion de particule et la loi de Fick qui la modélise peut-être approchée par une approche stochastique de marche au hasard.</br>\n",
    "\n",
    "Dans son approche la plus simple, une particule initialement placée au centre d'un repére peut se déplacer dans deux directions de l'espace $Ox$ et $Oy$, d'une même distance $a$, tous les intervalles de temps $\\Delta t$. Les vecteurs déplacement élémentaire sont alors : \n",
    "$$\\vec{d}=\\left(a,0\\right)\\text{ ou }\\left(-a,0\\right)\\text{ ou }\\left(0,a\\right)\\text{ ou }\\left(0,-a\\right)$$\n",
    "\n",
    "&nbsp;\n",
    "Ainsi, les quatre directions de l'espace étant équiprobables, la probabilité qu'à une particule de se trouver en $x,y)$ à l'instant $t+\\Delta t$ est donc : \n",
    "$$p(x,y,t+\\Delta t)=\\dfrac{1}{4}\\left[p(x+a,y)+p(x-a,y)+p(x,y+a)+p(x,y-a)\\right]$$\n",
    "\n",
    "&nbsp;\n",
    "Dans l'hypothèse d'un milieu continu où $a$ est très petit devant l'échelle d'observation macroscopique et $\\Delta t$ est également petit devant la durée globale du phénomène, on peut écrire : \n",
    "$$p(x,y,t+\\Delta t)\\simeq p(x,y,t)+\\dfrac{\\partial p}{\\partial t}\\Delta t\\qquad\\text{ainsi que}\\qquad p(x+a,y)\\simeq p(x,y,t)+\\dfrac{\\partial p}{\\partial x}a + \\dfrac{\\partial^2 p}{\\partial x^2}\\dfrac{a^2}{2}$$\n",
    "\n",
    "&nbsp;\n",
    "La réunion de ces équations donne alors une équation de diffusion : \n",
    "$$\\dfrac{\\partial p}{\\partial t}\\simeq \\dfrac{a^2}{4\\Delta t}\\Delta p$$\n",
    "où $\\Delta$ est l'opérateur laplacien et $D=\\frac{a^2}{4\\Delta t}$ est le coefficient de diffusion observé à l'échelle macroscopique.</br>\n",
    "\n",
    "C'est ce que nous allons essayer de vérifier en mettant en œuvre une marche au hasard numérique."
   ]
  },
  {
   "cell_type": "code",
   "execution_count": 1,
   "metadata": {},
   "outputs": [],
   "source": [
    "# commande permettant d'insérer les figures matplotlib dans les notebooks\n",
    "%matplotlib notebook\n",
    "\n",
    "# import des librairies \n",
    "import numpy as np\n",
    "from scipy.integrate import odeint\n",
    "from scipy import fft\n",
    "import matplotlib.pyplot as plt"
   ]
  },
  {
   "cell_type": "code",
   "execution_count": 2,
   "metadata": {},
   "outputs": [],
   "source": [
    "# Données propres à l'oscillateur\n",
    "g = 10.0 #intensité de pesanteur\n",
    "m = 0.5 #masse\n",
    "mu = 0.0 #amortissement fluide\n",
    "k = 2.0 #contante de raideur du ressort\n",
    "l0 = 0.15 #longueur à vide du ressort\n",
    "\n",
    "vr = 0.1 #vitesse de roulement du tapis\n",
    "mus = 0.2 #frottement statique\n",
    "mud = 0.15 #frottement dynamique"
   ]
  },
  {
   "cell_type": "code",
   "execution_count": 3,
   "metadata": {},
   "outputs": [],
   "source": [
    "# Durée d'intégraton\n",
    "Tmax = 40.0\n",
    "nd = 1000\n",
    "deltat=Tmax/nd\n",
    "\n",
    "xv0 = [0.15,0.1]\n",
    "t = np.linspace(0.0,Tmax,nd)"
   ]
  },
  {
   "cell_type": "code",
   "execution_count": null,
   "metadata": {},
   "outputs": [],
   "source": []
  }
 ],
 "metadata": {
  "kernelspec": {
   "display_name": "Python 3",
   "language": "python",
   "name": "python3"
  },
  "language_info": {
   "codemirror_mode": {
    "name": "ipython",
    "version": 3
   },
   "file_extension": ".py",
   "mimetype": "text/x-python",
   "name": "python",
   "nbconvert_exporter": "python",
   "pygments_lexer": "ipython3",
   "version": "3.8.5"
  }
 },
 "nbformat": 4,
 "nbformat_minor": 2
}
